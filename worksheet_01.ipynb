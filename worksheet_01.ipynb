{
  "cells": [
    {
      "cell_type": "markdown",
      "metadata": {
        "id": "HRjPmm-h7Pr9"
      },
      "source": [
        "# Worksheet 01\n",
        "\n",
        "Name:  MANUSHI MUNSHI\n",
        "\n",
        "UID: U25855816\n",
        "\n",
        "### Topics\n",
        "\n",
        "- Git\n",
        "\n",
        "## Prerequisites (installations)\n",
        "\n",
        "#### This is your checklist:\n",
        "\n",
        "- [x] Access to terminal\n",
        "- [x] Install Git\n",
        "- [x] Sign up for a GitHub account\n",
        "- [x] Choose editor\n",
        "- [x] Set up ssh keys\n",
        "- [x] Configure git\n",
        "\n",
        "### Step 1: Work Environment:  Access to Terminal\n",
        "\n",
        "- Mac/Linux: use **Terminal**\n",
        "- Windows:\n",
        "\t- Option 1:  [Power Shell](https://www.digitalcitizen.life/simple-questions-what-powershell-what-can-you-do-it)\n",
        "\t- Option 2:  Git Bash (recommended)\n",
        "\n",
        "### Step 2: Install Git\n",
        "\n",
        "- Mac:  \n",
        "\t- [Git](https://git-scm.com/download/mac)\n",
        "- Windows:  \n",
        "\t- [Git for Windows (Git Bash)](https://gitforwindows.org/)\n",
        "- Linux:\n",
        "\t- [Install Git on Linux](https://www.atlassian.com/git/tutorials/install-git#linux)\n",
        "\n",
        "Confirm Git is installed by typing `git --version` on your terminal\n",
        "\n",
        "### Step 3: Sign up for a GitHub Account\n",
        "\n",
        " Go to [github.com](https://github.com/)\n",
        "\n",
        "### Step 4: Choose a Graphical Editor\n",
        "\n",
        "- Try Visual Studio Code\n",
        "\t* [Visual Studio Code](https://visualstudio.microsoft.com/downloads/)\n",
        "- OR one of these other editors\n",
        "\t* [Sublime Text 3](https://www.sublimetext.com/)\n",
        "\t* [Atom](https://atom.io/)\n",
        "\t* [Notepad++](https://notepad-plus-plus.org/) (for Windows)\n",
        "\n",
        "### Step 5: SSH Setup\n",
        "\n",
        "#### Mac & Linux Users\n",
        "\n",
        "Go to home directory (in terminal)\n",
        "\n",
        "```bash\n",
        "% cd ~\n",
        "% pwd\n",
        "/Users/gallettilance\n",
        "```\n",
        "\n",
        "Go to `.ssh` directory\n",
        "\n",
        "```bash\n",
        "% pwd\n",
        "/Users/gallettilance\n",
        "% cd .ssh\n",
        "% pwd\n",
        "/Users/gallettilance/.ssh\n",
        "```\n",
        "\n",
        "**Note:**  If you do not have the `.ssh` directory, you can create it\n",
        "\n",
        "- if you are in your home directory:\n",
        "\t- <kbd> mkdir .ssh </kbd>  \n",
        "- if you are not in your home directory:\n",
        "\t- <kbd> mkdir ~/.ssh </kbd>  \n",
        "\n",
        "Generate `id_rsa` keypair files if needed\n",
        "\n",
        "- **Note:**  these `id_rsa` files contain a special password for your computer to be connect to network services (Ex:  GitHub, AWS).\n",
        "- Check to see if these files exist by typing <kbd> ls -alt</kbd>\n",
        "- If you do not have these two files (`id_rsa` and `id_rsa.pub`), create them by typing:  \n",
        "\t- <kbd> ssh-keygen</kbd>\n",
        "\t- Hit  <kbd> enter  </kbd> **3 times**\n",
        "\n",
        "```bash\n",
        "% pwd\n",
        "/Users/gallettilance/.ssh\n",
        "% ls\n",
        "% ssh-keygen\n",
        "Generating public/private rsa key pair.\n",
        "Enter file in which to save the key (/Users/gallettilance/.ssh/id_rsa):\n",
        "Enter passphrase (empty for no passphrase):\n",
        "Enter same passphrase again:\n",
        "Your identification has been saved in /Users/gallettilance/.ssh/id_rsa.\n",
        "Your public key has been saved in /Users/gallettilance/.ssh/id_rsa.pub.\n",
        "The key fingerprint is:\n",
        "SHA256:jmDJes1qOzDi8KynXLGQ098JMSRnbIyt0w7vSgEsr2E gallettilance@RESHAMAs-MacBook-Pro.local\n",
        "The key's randomart image is:\n",
        "+---[RSA 2048]----+\n",
        "|   .=+           |\n",
        "|.  .==           |\n",
        "|.o  +o           |\n",
        "|..+= oo          |\n",
        "|.E.+X.  S        |\n",
        "|+o=o=*oo.        |\n",
        "|++.*o.+o.        |\n",
        "|..*.oo           |\n",
        "|o= o+o           |\n",
        "+----[SHA256]-----+\n",
        "% ls\n",
        "total 16\n",
        "-rw-------  1   1675 Dec 17 12:20 id_rsa\n",
        "-rw-r--r--  1    422 Dec 17 12:20 id_rsa.pub\n",
        "%\n",
        "```\n",
        "\n",
        "Navigate to the `.ssh` directory\n",
        "\n",
        "<kbd> cd ~/.ssh </kbd>  \n",
        "\n",
        "open `id_rsa.pub` using your editor of choice and copy its contents. Add `ssh` key to GitHub by following these steps:\n",
        "\n",
        "- go to your [GitHub account](https://github.com/) (create one if you don't have one, and save your user name and password somewhere easily accessible for you.)\n",
        "- click on your avatar/profile picture (upper right of screen)\n",
        "- go to `Settings`\n",
        "- on left of screen, select `SSH and GPG keys`\n",
        "- Select <kbd> New SSH key </kbd>\n",
        "- for \"Title\":  entitle it  \"GitHub key\"\n",
        "- for \"Key\":  paste key from clipboard here\n",
        "- click <kbd> Add SSH key </kbd>\n",
        "- save, exit, confirm GitHub password as requested\n",
        "\n",
        "#### Windows Users\n",
        "\n",
        "Follow [How to Create SSH Keys with PuTTY on Windows](https://www.digitalocean.com/docs/droplets/how-to/add-ssh-keys/create-with-putty/)\n",
        "\n",
        "### Step 6: Configure Git\n",
        "\n",
        "#### Configure user name and email (lets Git know who you are)\n",
        "\n",
        "<kbd> git config --global user.name \"First Last\"  </kbd>  \n",
        "<kbd> git config --global user.email \"myname@email.com\"  </kbd>  \n",
        "\n",
        "To verify these additions, type:  \n",
        "<kbd> git config --list  </kbd>  \n",
        "\n",
        "#### Default Editor\n",
        "\n",
        "The default editor will be [Vim](https://vim.rtorr.com/). You may want to look up how to edit, save, and close vim as this can't be done with just point and click (you must use the vim commands)."
      ]
    },
    {
      "cell_type": "markdown",
      "metadata": {
        "id": "jSXS1RH-7PsD"
      },
      "source": [
        "### Git / GitHub\n",
        "\n",
        "a) what is the difference between git and github?"
      ]
    },
    {
      "cell_type": "markdown",
      "metadata": {
        "id": "J229I2Ef7PsD"
      },
      "source": [
        "Git is a type of version control system which allows the user to keep track of the different versions of a code. Github, on the other hand is a cloud-based website which facilitates storing of your repositories."
      ]
    },
    {
      "cell_type": "markdown",
      "metadata": {
        "id": "8H_GfESb7PsE"
      },
      "source": [
        "b) what command would you use to copy a repo locally?"
      ]
    },
    {
      "cell_type": "markdown",
      "metadata": {
        "id": "bDRkGb_E7PsE"
      },
      "source": [
        "git clone \"repo url (ssh key)\""
      ]
    },
    {
      "cell_type": "markdown",
      "metadata": {
        "id": "BLluXzIY7PsE"
      },
      "source": [
        "c) what button would you use to make a copy of a repo in GitHub?"
      ]
    },
    {
      "cell_type": "markdown",
      "metadata": {
        "id": "vbES2BQd7PsF"
      },
      "source": [
        "Fork"
      ]
    },
    {
      "cell_type": "markdown",
      "metadata": {
        "id": "fijWmQMo7PsF"
      },
      "source": [
        "d) let's say you have a copy of a repo in GitHub but that repo changes, does your copy on your laptop change too? why / why not?"
      ]
    },
    {
      "cell_type": "markdown",
      "metadata": {
        "id": "1PRhP--37PsF"
      },
      "source": [
        "No, the changes of the Github repo are not automatically reflected on the local copy. This is because cloning a repo creates a separate local copy of the repo on your laptop. This will be the state of the repo at the time of clone. To fetch and update the changes from the remote repo, we need to use git pull or git fetch."
      ]
    },
    {
      "cell_type": "markdown",
      "metadata": {
        "id": "IDehdm-i7PsF"
      },
      "source": [
        "e) what are the three commands you use to create a new save point in your git repo and back it up to GitHub?"
      ]
    },
    {
      "cell_type": "markdown",
      "metadata": {
        "id": "ojkIh5Ei7PsG"
      },
      "source": [
        "\n",
        "\n",
        "1.   git add - to add the changes to specific files/directories\n",
        "2.   git commit - to commit the added changes\n",
        "3.   git push - to push the added local commits to the remote repo and back it up to Github.\n",
        "\n"
      ]
    },
    {
      "cell_type": "markdown",
      "metadata": {
        "id": "LbM9AQyK7PsG"
      },
      "source": [
        "f) how would you make your local and remote copies change so that they have the most up-to-date version of the repo they are copied from?"
      ]
    },
    {
      "cell_type": "markdown",
      "metadata": {
        "id": "FtrhhRZF7PsG"
      },
      "source": [
        "To update local copy, we use git pull command to fetch the changes from the remote repo.\n",
        "\n",
        "Steps to update remote copy/fork on Github are -\n",
        "\n",
        "\n",
        "1.   git remote add upstream 'repo link' - add original repo as a remote\n",
        "2.   git fetch upstream - to get latest changes made to original repo\n",
        "3. git checkout - to switch to branch we want to update\n",
        "4. git merge - to merge changes from original repo to our fork copy\n",
        "5. git push - push updated branch to Github fork/remote copy\n",
        "\n"
      ]
    },
    {
      "cell_type": "markdown",
      "metadata": {
        "id": "qcGD-Zny7PsH"
      },
      "source": [
        "g) why are there sometimes conflicts between copied repos / branches? How do you resolve them?"
      ]
    },
    {
      "cell_type": "markdown",
      "metadata": {
        "id": "7RqAXrJr7PsH"
      },
      "source": [
        "\n",
        "\n",
        "*   Conflicts occur when there are multiple contributors working on the same repo. Multiple contributors may be making changes to same part of repo and pushing the changes, giving rise to conflicts. There can also be branch conflicts when we are trying to merge two conflicted branches to the main repo.\n",
        "*   We need to manually resolve the conflicts once Git identifies them. This can be done by editing the files as per the changes which we want to keep. After this, we use git add to stage the resolved file and commit the changes. Finally we push the changes to the remote Github repo.\n",
        "\n",
        "\n",
        "\n",
        "\n",
        "\n"
      ]
    },
    {
      "cell_type": "markdown",
      "metadata": {
        "id": "Cn_WO1IQ7PsH"
      },
      "source": [
        "h) describe all the steps needed to make a PR to contribute your notes to the class repository."
      ]
    },
    {
      "cell_type": "markdown",
      "metadata": {
        "id": "wq5BPC6m7PsH"
      },
      "source": [
        "\n",
        "\n",
        "1.   Fork the class repo to make your own copy\n",
        "2.   Clone the fork locally\n",
        "3.  Create new branch using git checkout -b\n",
        "4.   Add changes and commit them\n",
        "5.   Push changes to the fork\n",
        "6.   Create a pull request\n",
        "\n",
        "After the pull request is made, the owner of the original repo reviews the changes, make required modifications and merge the pull request to the main branch.\n",
        "\n"
      ]
    },
    {
      "cell_type": "markdown",
      "metadata": {
        "id": "dnspFDiy7PsH"
      },
      "source": [
        "i) Write here some other commands we used in class and what they mean / how to use them:"
      ]
    },
    {
      "cell_type": "markdown",
      "metadata": {
        "id": "lV_7famg7PsI"
      },
      "source": [
        "\n",
        "\n",
        "1.   git log : shows the commit history of the repo\n",
        "2.   git status : shows present status of the working directory and  repo.\n",
        "4.   git stash : used to save changes for later, these are changes we do not want to commit yet.\n",
        "5.   git restore : restore files in directory to previous committed state.\n",
        "6.   git diff : shows differences between two states of the Git repo.\n",
        "7.   git checkout : switch to an existing branch\n",
        "8.   code . : open code editor\n",
        "9.   git checkout -b branch_name: create a new branch\n",
        "10.  git branch : shows all existing branches\n",
        "11.  git remote -v : shows list of remote repos associated with local repo\n",
        "\n",
        "\n",
        "\n",
        "\n"
      ]
    }
  ],
  "metadata": {
    "colab": {
      "provenance": []
    },
    "kernelspec": {
      "display_name": "Python 3",
      "language": "python",
      "name": "python3"
    },
    "language_info": {
      "name": "python",
      "version": "3.9.9 (main, Nov 19 2021, 00:00:00) \n[GCC 11.2.1 20210728 (Red Hat 11.2.1-1)]"
    },
    "orig_nbformat": 4,
    "vscode": {
      "interpreter": {
        "hash": "76ca05dc3ea24b2e3b98cdb7774adfbb40773424bf5109b477fd793f623715af"
      }
    }
  },
  "nbformat": 4,
  "nbformat_minor": 0
}
