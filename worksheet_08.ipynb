{
 "cells": [
  {
   "attachments": {},
   "cell_type": "markdown",
   "metadata": {},
   "source": [
    "# Worksheet 08\n",
    "\n",
    "Name:  MANUSHI MUNSHI\n",
    "\n",
    "UID: U25855816 \n",
    "\n",
    "### Topics\n",
    "\n",
    "- Soft Clustering\n",
    "- Clustering Aggregation\n",
    "\n",
    "### Probability Review\n",
    "\n",
    "Read through [the following](https://medium.com/@gallettilance/overview-of-probability-3272b72c82c8)\n",
    "\n",
    "### Soft Clustering\n",
    "\n",
    "We generate 10 data points that come from a normal distribution with mean 5 and variance 1."
   ]
  },
  {
   "cell_type": "code",
   "execution_count": 2,
   "metadata": {},
   "outputs": [
    {
     "name": "stdout",
     "output_type": "stream",
     "text": [
      "[5.759565668458676, 5.188732583288381, 4.956874501290525, 4.529221172051075, 4.490593714301451, 5.8997325740829325, 4.712817252257899, 3.998526724000028, 5.438430237491119, 4.979678376294689]\n"
     ]
    }
   ],
   "source": [
    "import random\n",
    "import numpy as np\n",
    "from sklearn.cluster import KMeans\n",
    "\n",
    "mean = 5\n",
    "stdev = 1\n",
    "\n",
    "s1 = np.random.normal(mean, stdev, 10).tolist()\n",
    "print(s1)"
   ]
  },
  {
   "cell_type": "markdown",
   "metadata": {},
   "source": [
    "a) Generate 10 more data points, this time coming from a normal distribution with mean 8 and variance 1."
   ]
  },
  {
   "cell_type": "code",
   "execution_count": 3,
   "metadata": {},
   "outputs": [
    {
     "name": "stdout",
     "output_type": "stream",
     "text": [
      "[6.980086382730489, 8.140384231825958, 7.93719814753181, 8.826948040693685, 7.732754421618158, 8.029543005852384, 10.375825239936157, 7.470955941674377, 7.696960054128352, 7.268919135111995]\n"
     ]
    }
   ],
   "source": [
    "s2 = np.random.normal( 8 , 1 ,10 ).tolist()\n",
    "print(s2)"
   ]
  },
  {
   "cell_type": "markdown",
   "metadata": {},
   "source": [
    "b) Flip a fair coin 10 times. If the coin lands on H, then pick the last data point of `c1` and remove it from `c1`, if T then pick the last data point from `c2` and remove it from `c2`. Add these 10 points to a list called `data`."
   ]
  },
  {
   "cell_type": "code",
   "execution_count": 4,
   "metadata": {},
   "outputs": [
    {
     "name": "stdout",
     "output_type": "stream",
     "text": [
      "[7.268919135111995, 4.979678376294689, 7.696960054128352, 5.438430237491119, 3.998526724000028, 7.470955941674377, 4.712817252257899, 5.8997325740829325, 10.375825239936157, 8.029543005852384]\n"
     ]
    }
   ],
   "source": [
    "data = []\n",
    "for i in range(10):\n",
    "    # flip coin\n",
    "    coin_output = random.choice([0, 1])\n",
    "    if coin_output == 0:\n",
    "        p1 = s1.pop()\n",
    "        data.append(p1)\n",
    "    else:\n",
    "        p2 = s2.pop()\n",
    "        data.append(p2)\n",
    "print(data)"
   ]
  },
  {
   "cell_type": "markdown",
   "metadata": {},
   "source": [
    "c) This `data` is a Gaussian Mixture Distribution with 2 mixture components. Over the next few questions we will walk through the GMM algorithm to see if we can uncover the parameters we used to generate this data. First, please list all these parameters of the GMM that created `data` and the values we know they have."
   ]
  },
  {
   "cell_type": "markdown",
   "metadata": {},
   "source": [
    "- Number of components\n",
    "- Mean (5 and 8 respectively) \n",
    "- Variance (1)\n",
    "- Prior probability = 1/2"
   ]
  },
  {
   "cell_type": "markdown",
   "metadata": {},
   "source": [
    "d) Let's assume there are two mixture components (note: we could plot the data and make the observation that there are two clusters). The EM algorithm asks us to start with a random `mean_j`, `variance_j`, `P(S_j)` for each component j. One method we could use to find sensible values for these is to apply K means with k=2 here.\n",
    "\n",
    "1. the centroids would be the estimates of the `mean_j`\n",
    "2. the intra-cluster variance could be the estimate of `variance_j`\n",
    "3. the proportion of points in each cluster could be the estimate of `P(S_j)`\n",
    "\n",
    "Go through this process and list the parameter estimates it gives. Are they close or far from the true values?"
   ]
  },
  {
   "cell_type": "code",
   "execution_count": 5,
   "metadata": {},
   "outputs": [
    {
     "name": "stdout",
     "output_type": "stream",
     "text": [
      "[4.979678376294689, 5.438430237491119, 3.998526724000028, 4.712817252257899, 5.8997325740829325]\n",
      "[7.268919135111995, 7.696960054128352, 7.470955941674377, 10.375825239936157, 8.029543005852384]\n",
      "P(S_1) = 0.5,  P(S_2) = 0.5\n",
      "mean_1 = 5.005837032825333,  mean_2 = 8.168440675340651\n",
      "var_1 = 0.4174810089568476,  var_2 = 11.284013221614238\n"
     ]
    }
   ],
   "source": [
    "kmeans = KMeans(2, init='k-means++').fit(X=np.array(data).reshape(-1, 1))\n",
    "\n",
    "s1 = [x[0] for x in filter(lambda x: x[1] == 0, zip(data, kmeans.labels_))]\n",
    "print(s1)\n",
    "s2 = [x[0] for x in filter(lambda x: x[1] == 1, zip(data, kmeans.labels_))]\n",
    "print(s2)\n",
    "\n",
    "prob_s = [ len(s1) / (len(s1) + len(s2)) , len(s2) / (len(s1) + len(s2)) ]\n",
    "mean = [ sum(s1)/len(s1) , sum(s2)/len(s2) ]\n",
    "var = [ sum(map(lambda x : (x - mean[0])**2, s1)) / len(s1) , sum(map(lambda x : (x - mean[0])**2, s2)) / len(s2) ]\n",
    "\n",
    "print(\"P(S_1) = \" + str(prob_s[0]) + \",  P(S_2) = \" + str(prob_s[1]))\n",
    "print(\"mean_1 = \" + str(mean[0]) + \",  mean_2 = \" + str(mean[1]))\n",
    "print(\"var_1 = \" + str(var[0]) + \",  var_2 = \" + str(var[1]))"
   ]
  },
  {
   "cell_type": "markdown",
   "metadata": {},
   "source": []
  },
  {
   "cell_type": "markdown",
   "metadata": {},
   "source": [
    "e) For each data point, compute `P(S_j | X_i)`. Comment on which cluster you think each point belongs to based on the estimated probabilities. How does that compare to the truth?"
   ]
  },
  {
   "cell_type": "code",
   "execution_count": 6,
   "metadata": {},
   "outputs": [
    {
     "name": "stdout",
     "output_type": "stream",
     "text": [
      "point =  7.268919135111995\n",
      "probability of observing that point if it came from cluster 0 =  3.975392164932136e-07\n",
      "probability of observing that point if it came from cluster 1 =  0.03524248884950159\n",
      "point =  4.979678376294689\n",
      "probability of observing that point if it came from cluster 0 =  0.9537198183140015\n",
      "probability of observing that point if it came from cluster 1 =  0.03397078536384622\n",
      "point =  7.696960054128352\n",
      "probability of observing that point if it came from cluster 0 =  9.064323830840508e-10\n",
      "probability of observing that point if it came from cluster 1 =  0.03532379685910856\n",
      "point =  5.438430237491119\n",
      "probability of observing that point if it came from cluster 0 =  0.5586254875293367\n",
      "probability of observing that point if it came from cluster 1 =  0.03433493114000733\n",
      "point =  3.998526724000028\n",
      "probability of observing that point if it came from cluster 0 =  0.052011296834063504\n",
      "probability of observing that point if it came from cluster 1 =  0.03302118184983493\n",
      "point =  7.470955941674377\n",
      "probability of observing that point if it came from cluster 0 =  2.5657518501150268e-08\n",
      "probability of observing that point if it came from cluster 1 =  0.035287169725275645\n",
      "point =  4.712817252257899\n",
      "probability of observing that point if it came from cluster 0 =  0.7469649113083477\n",
      "probability of observing that point if it came from cluster 1 =  0.03373507564272669\n",
      "point =  5.8997325740829325\n",
      "probability of observing that point if it came from cluster 0 =  0.09654798420903181\n",
      "probability of observing that point if it came from cluster 1 =  0.034647244884049744\n",
      "point =  10.375825239936157\n",
      "probability of observing that point if it came from cluster 0 =  1.1290918472164143e-36\n",
      "probability of observing that point if it came from cluster 1 =  0.03468461047702896\n",
      "point =  8.029543005852384\n",
      "probability of observing that point if it came from cluster 0 =  3.884385925440691e-12\n",
      "probability of observing that point if it came from cluster 1 =  0.03535196656958805\n",
      "7.268919135111995\n",
      "Probability of coming from S_0 = 1.127998462181785e-05\n",
      "Probability of coming from S_1 = 0.9999887200153783\n",
      "\n",
      "4.979678376294689\n",
      "Probability of coming from S_0 = 0.9656058433305432\n",
      "Probability of coming from S_1 = 0.034394156669456756\n",
      "\n",
      "7.696960054128352\n",
      "Probability of coming from S_0 = 2.566067185358799e-08\n",
      "Probability of coming from S_1 = 0.9999999743393282\n",
      "\n",
      "5.438430237491119\n",
      "Probability of coming from S_0 = 0.942095745248801\n",
      "Probability of coming from S_1 = 0.057904254751199036\n",
      "\n",
      "3.998526724000028\n",
      "Probability of coming from S_0 = 0.6116638917161455\n",
      "Probability of coming from S_1 = 0.38833610828385445\n",
      "\n",
      "7.470955941674377\n",
      "Probability of coming from S_0 = 7.271056320236984e-07\n",
      "Probability of coming from S_1 = 0.9999992728943681\n",
      "\n",
      "4.712817252257899\n",
      "Probability of coming from S_0 = 0.9567886816874753\n",
      "Probability of coming from S_1 = 0.04321131831252461\n",
      "\n",
      "5.8997325740829325\n",
      "Probability of coming from S_0 = 0.7359107863635199\n",
      "Probability of coming from S_1 = 0.2640892136364799\n",
      "\n",
      "10.375825239936157\n",
      "Probability of coming from S_0 = 3.2553107320152637e-35\n",
      "Probability of coming from S_1 = 1.0\n",
      "\n",
      "8.029543005852384\n",
      "Probability of coming from S_0 = 1.0987750617402636e-10\n",
      "Probability of coming from S_1 = 0.9999999998901224\n",
      "\n"
     ]
    }
   ],
   "source": [
    "from scipy.stats import norm\n",
    "\n",
    "prob_s0_x = []  # P(S_0 | X_i)\n",
    "prob_s1_x = []  # P(S_1 | X_i)\n",
    "prob_x = []    # P(X_i)\n",
    "\n",
    "k = 2\n",
    "\n",
    "for p in data:\n",
    "    print(\"point = \", p)\n",
    "    pdf_i = []\n",
    "\n",
    "    for j in range(k):\n",
    "        # P(X_i | S_j)\n",
    "        pdf_i.append(norm.pdf(p, mean[j], var[j]))\n",
    "        print(\"probability of observing that point if it came from cluster \" + str(j) + \" = \", pdf_i[j])\n",
    "\n",
    "    # P(X_i) = P(S_0)P(X_i | S_0) + P(S_1)P(X_i | S_1)\n",
    "    prob_x_i = prob_s[0] * pdf_i[0] + prob_s[1] * pdf_i[1]\n",
    "\n",
    "    # P(S_0 | X_i) = P(X_i | S_0)P(S_0) / P(X_i)\n",
    "    prob_s0_x_i = (pdf_i[0] * prob_s[0]) / prob_x_i\n",
    "    prob_s0_x.append(prob_s0_x_i)\n",
    "\n",
    "    # P(S_1 | X_i) = P(X_i | S_1)P(S_1) / P(X_i)\n",
    "    prob_s1_x_i = (pdf_i[1] * prob_s[1]) / prob_x_i\n",
    "    prob_s1_x.append(prob_s1_x_i)\n",
    "\n",
    "probs = zip(data, prob_s0_x, prob_s1_x)\n",
    "for p in probs:\n",
    "    print(p[0])\n",
    "    print(\"Probability of coming from S_0 = \" + str(p[1]))\n",
    "    print(\"Probability of coming from S_1 = \" + str(p[2]))\n",
    "    print()\n"
   ]
  },
  {
   "cell_type": "markdown",
   "metadata": {},
   "source": [
    "f) Having computed `P(S_j | X_i)`, update the estimates of `mean_j`, `var_j`, and `P(S_j)`. How different are these values from the original ones you got from K means? briefly comment."
   ]
  },
  {
   "cell_type": "code",
   "execution_count": 7,
   "metadata": {},
   "outputs": [
    {
     "name": "stdout",
     "output_type": "stream",
     "text": [
      "P(S_1) = 0.5,  P(S_2) = 0.5\n",
      "mean_1 = 5.039940557850209,  mean_2 = 7.713089960855763\n",
      "var_1 = 0.3473212867488901,  var_2 = 2.525720585581666\n"
     ]
    }
   ],
   "source": [
    "prob_c = [sum(prob_s0_x)/ len(prob_s0_x), sum(prob_s1_x)/ len(prob_s1_x) ]\n",
    "mean = [sum([x[0] * x[1] for x in zip(prob_s0_x, data)]) / sum(prob_s0_x), sum([x[0] * x[1] for x in zip(prob_s1_x, data)]) / sum(prob_s1_x) ]\n",
    "var = [sum([x[0] * ((x[1] - mean[0])**2) for x in zip(prob_s0_x, data)]) / sum(prob_s0_x),\n",
    "       sum([x[0] * ((x[1] - mean[1])**2) for x in zip(prob_s1_x, data)]) / sum(prob_s1_x)]\n",
    "\n",
    "\n",
    "print(\"P(S_1) = \" + str(prob_s[0]) + \",  P(S_2) = \" + str(prob_s[1]))\n",
    "print(\"mean_1 = \" + str(mean[0]) + \",  mean_2 = \" + str(mean[1]))\n",
    "print(\"var_1 = \" + str(var[0]) + \",  var_2 = \" + str(var[1]))"
   ]
  },
  {
   "cell_type": "markdown",
   "metadata": {},
   "source": []
  },
  {
   "cell_type": "markdown",
   "metadata": {},
   "source": [
    "g) Update `P(S_j | X_i)`. Comment on any differences or lack thereof you observe."
   ]
  },
  {
   "cell_type": "code",
   "execution_count": 8,
   "metadata": {},
   "outputs": [
    {
     "name": "stdout",
     "output_type": "stream",
     "text": [
      "7.268919135111995\n",
      "Probability of coming from S_0 = 6.122513066346302e-09\n",
      "Probability of coming from S_1 = 0.999999993877487\n",
      "\n",
      "4.979678376294689\n",
      "Probability of coming from S_0 = 0.9035034797447047\n",
      "Probability of coming from S_1 = 0.09649652025529537\n",
      "\n",
      "7.696960054128352\n",
      "Probability of coming from S_0 = 1.036395308769102e-12\n",
      "Probability of coming from S_1 = 0.9999999999989636\n",
      "\n",
      "5.438430237491119\n",
      "Probability of coming from S_0 = 0.804329596090336\n",
      "Probability of coming from S_1 = 0.1956704039096639\n",
      "\n",
      "3.998526724000028\n",
      "Probability of coming from S_0 = 0.1483545213861207\n",
      "Probability of coming from S_1 = 0.8516454786138793\n",
      "\n",
      "7.470955941674377\n",
      "Probability of coming from S_0 = 1.2230751129948568e-10\n",
      "Probability of coming from S_1 = 0.9999999998776925\n",
      "\n",
      "4.712817252257899\n",
      "Probability of coming from S_0 = 0.8730517377155352\n",
      "Probability of coming from S_1 = 0.1269482622844647\n",
      "\n",
      "5.8997325740829325\n",
      "Probability of coming from S_0 = 0.24230336689553955\n",
      "Probability of coming from S_1 = 0.7576966331044604\n",
      "\n",
      "10.375825239936157\n",
      "Probability of coming from S_0 = 5.1728815600621315e-51\n",
      "Probability of coming from S_1 = 1.0\n",
      "\n",
      "8.029543005852384\n",
      "Probability of coming from S_0 = 4.3494174042969767e-16\n",
      "Probability of coming from S_1 = 0.9999999999999996\n",
      "\n"
     ]
    }
   ],
   "source": [
    "prob_s0_x = []  # P(S_0 | X_i)\n",
    "prob_s1_x = []  # P(S_1 | X_i)\n",
    "\n",
    "for p in data:\n",
    "    pdf_i = []\n",
    "\n",
    "    for j in range(k):\n",
    "        # P(X_i | S_j)\n",
    "        pdf_i.append(norm.pdf(p, mean[j], var[j]))\n",
    "\n",
    "    # P(S_0 | X_i) = P(X_i | S_0)P(S_0) / P(X_i)\n",
    "    prob_s0_x_i = (pdf_i[0] * prob_c[0]) / (pdf_i[0] * prob_c[0] + pdf_i[1] * prob_c[1])\n",
    "    prob_s0_x.append(prob_s0_x_i)\n",
    "\n",
    "    # P(S_1 | X_i) = P(X_i | S_1)P(S_1) / P(X_i)\n",
    "    prob_s1_x_i = (pdf_i[1] * prob_c[1]) / (pdf_i[0] * prob_c[0] + pdf_i[1] * prob_c[1])\n",
    "    prob_s1_x.append(prob_s1_x_i)\n",
    "\n",
    "# Print updated posterior probabilities\n",
    "probs = zip(data, prob_s0_x, prob_s1_x)\n",
    "for p in probs:\n",
    "    print(p[0])\n",
    "    print(\"Probability of coming from S_0 = \" + str(p[1]))\n",
    "    print(\"Probability of coming from S_1 = \" + str(p[2]))\n",
    "    print()\n"
   ]
  },
  {
   "cell_type": "markdown",
   "metadata": {},
   "source": []
  },
  {
   "cell_type": "markdown",
   "metadata": {},
   "source": [
    "h) Use `P(S_j | X_i)` to create a hard assignment - label each point as belonging to a specific cluster (0 or 1)"
   ]
  },
  {
   "cell_type": "code",
   "execution_count": 9,
   "metadata": {},
   "outputs": [
    {
     "name": "stdout",
     "output_type": "stream",
     "text": [
      "Data point 0 belongs to Cluster 1\n",
      "Data point 1 belongs to Cluster 0\n",
      "Data point 2 belongs to Cluster 1\n",
      "Data point 3 belongs to Cluster 0\n",
      "Data point 4 belongs to Cluster 1\n",
      "Data point 5 belongs to Cluster 1\n",
      "Data point 6 belongs to Cluster 0\n",
      "Data point 7 belongs to Cluster 1\n",
      "Data point 8 belongs to Cluster 1\n",
      "Data point 9 belongs to Cluster 1\n"
     ]
    }
   ],
   "source": [
    "hard_assignments = []  # List to store hard cluster assignments\n",
    "\n",
    "for p_s0, p_s1 in zip(prob_s0_x, prob_s1_x):\n",
    "    if p_s0 > p_s1:\n",
    "        hard_assignments.append(0)  # Assign to cluster 0\n",
    "    else:\n",
    "        hard_assignments.append(1)  # Assign to cluster 1\n",
    "\n",
    "# Print the hard assignments\n",
    "for i, assignment in enumerate(hard_assignments):\n",
    "    print(f\"Data point {i} belongs to Cluster {assignment}\")\n"
   ]
  }
 ],
 "metadata": {
  "kernelspec": {
   "display_name": "Python 3",
   "language": "python",
   "name": "python3"
  },
  "language_info": {
   "codemirror_mode": {
    "name": "ipython",
    "version": 3
   },
   "file_extension": ".py",
   "mimetype": "text/x-python",
   "name": "python",
   "nbconvert_exporter": "python",
   "pygments_lexer": "ipython3",
   "version": "3.8.5"
  },
  "orig_nbformat": 4,
  "vscode": {
   "interpreter": {
    "hash": "e7370f93d1d0cde622a1f8e1c04877d8463912d04d973331ad4851f04de6915a"
   }
  }
 },
 "nbformat": 4,
 "nbformat_minor": 2
}
