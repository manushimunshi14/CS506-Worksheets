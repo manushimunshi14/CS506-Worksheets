{
 "cells": [
  {
   "attachments": {},
   "cell_type": "markdown",
   "metadata": {},
   "source": [
    "# Worksheet 02\n",
    "\n",
    "Name:  MANUSHI MUNSHI\n",
    "\n",
    "UID: U25855816\n",
    "\n",
    "### Topics\n",
    "\n",
    "- Effective Programming\n",
    "\n",
    "### Effective Programming\n",
    "\n",
    "a) What is a drawback of the top down approach?"
   ]
  },
  {
   "cell_type": "markdown",
   "metadata": {},
   "source": [
    "Top down approach does not have a runnable/executable code till the end of the process and this make testing of the code difficult. "
   ]
  },
  {
   "cell_type": "markdown",
   "metadata": {},
   "source": [
    "b) What is a drawback of the bottom up approach?"
   ]
  },
  {
   "cell_type": "markdown",
   "metadata": {},
   "source": [
    "Bottom up approach requires you to know all the specific details of the program upfront while beginning the process. "
   ]
  },
  {
   "cell_type": "markdown",
   "metadata": {},
   "source": [
    "c) What are 3 things you can do to have a better debugging experience?"
   ]
  },
  {
   "cell_type": "markdown",
   "metadata": {},
   "source": [
    "1. Re-read your code and take your time.\n",
    "2. Sanity check and try to minimize the debugging space.\n",
    "3. Do not panic and read the error carefully. "
   ]
  },
  {
   "attachments": {},
   "cell_type": "markdown",
   "metadata": {},
   "source": [
    "d) Follow along with the live coding. You can write your code here:"
   ]
  },
  {
   "cell_type": "code",
   "execution_count": 3,
   "metadata": {},
   "outputs": [
    {
     "name": "stdout",
     "output_type": "stream",
     "text": [
      "Found a solution\n",
      "Q _ _ _ _ _ _ _ \n",
      "_ _ _ _ Q _ _ _ \n",
      "_ _ _ _ _ _ _ Q \n",
      "_ _ _ _ _ Q _ _ \n",
      "_ _ Q _ _ _ _ _ \n",
      "_ _ _ _ _ _ Q _ \n",
      "_ Q _ _ _ _ _ _ \n",
      "_ _ _ Q _ _ _ _ \n",
      "\n"
     ]
    }
   ],
   "source": [
    "# 8-queen\n",
    "class Board:\n",
    "    def __init__(self):\n",
    "        self.board=[[\"_\" for _  in range(8)] for _ in range(8)]\n",
    "\n",
    "    def __repr__(self):\n",
    "        res=\"\"\n",
    "        for row in self.board:\n",
    "            for col in row:\n",
    "                res+=col\n",
    "                res+=\" \"\n",
    "            res+=\"\\n\"\n",
    "        return res\n",
    "    \n",
    "    def is_legal_row(self,row,col):\n",
    "        for j in range (len(self.board)):\n",
    "            if self.board[row][j]==\"Q\":\n",
    "                return False\n",
    "        return True\n",
    "            \n",
    "    def is_legal_col(self,row,col):\n",
    "        for i in range (len(self.board)):\n",
    "            if self.board[i][col]==\"Q\":\n",
    "                return False\n",
    "        return True\n",
    "    \n",
    "    def is_on_board(self,row,col):\n",
    "        return row>=0 and row<8 and col>=0 and col<8\n",
    "    \n",
    "    def is_legal_diag(self,row,col):\n",
    "        for i in range(len(self.board)):\n",
    "            if self.is_on_board(row-i,col-i) and self.board[row-i][col-i]==\"Q\":\n",
    "                return False \n",
    "            if self.is_on_board(row-i,col+i) and self.board[row-i][col+i]==\"Q\":\n",
    "                return False \n",
    "            if self.is_on_board(row+i,col-i) and self.board[row+i][col-i]==\"Q\":\n",
    "                return False \n",
    "            if self.is_on_board(row+i,col+i) and self.board[row+i][col+i]==\"Q\":\n",
    "                return False \n",
    "        return True \n",
    "    \n",
    "    def is_legal(self,row,col):\n",
    "        if not self.is_legal_row(row,col):\n",
    "            return False \n",
    "        if not self.is_legal_col(row,col):\n",
    "            return False\n",
    "        if not self.is_legal_diag(row,col):\n",
    "            return False\n",
    "        return True\n",
    "    \n",
    "    def set_queen_at(self,row,col):\n",
    "        self.board[row][col]=\"Q\"\n",
    "\n",
    "    def unset_queen_on(self,row):\n",
    "        self.board[row] = [\"_\" for _  in range(8)]\n",
    "\n",
    "    def get_queen_on(self,row):\n",
    "        for col in range(len(self.board)):\n",
    "            if self.board[row][col]==\"Q\":\n",
    "                return col\n",
    "        raise ValueError(\"programmer error\")\n",
    "\n",
    "    def search(self):\n",
    "        row=0\n",
    "        col=0\n",
    "        while row<8:\n",
    "            if self.is_legal(row,col):\n",
    "                self.set_queen_at(row,col)\n",
    "                row+=1\n",
    "                col=0\n",
    "            else: \n",
    "                col+=1\n",
    "                while col>=8:\n",
    "                    col=self.get_queen_on(row-1)\n",
    "                    self.unset_queen_on(row-1)\n",
    "                    col+=1\n",
    "                    row-=1\n",
    "        print(\"Found a solution\")\n",
    "        print(self)\n",
    "\n",
    "\n",
    "my_board= Board()\n",
    "my_board.search()\n"
   ]
  }
 ],
 "metadata": {
  "kernelspec": {
   "display_name": "Python 3",
   "language": "python",
   "name": "python3"
  },
  "language_info": {
   "codemirror_mode": {
    "name": "ipython",
    "version": 3
   },
   "file_extension": ".py",
   "mimetype": "text/x-python",
   "name": "python",
   "nbconvert_exporter": "python",
   "pygments_lexer": "ipython3",
   "version": "3.8.5"
  },
  "orig_nbformat": 4,
  "vscode": {
   "interpreter": {
    "hash": "76ca05dc3ea24b2e3b98cdb7774adfbb40773424bf5109b477fd793f623715af"
   }
  }
 },
 "nbformat": 4,
 "nbformat_minor": 2
}
