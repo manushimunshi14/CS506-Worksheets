{
  "cells": [
    {
      "cell_type": "markdown",
      "metadata": {
        "id": "QxqxBc5Jfqzs"
      },
      "source": [
        "# Worksheet 00\n",
        "\n",
        "Name:  MANUSHI MUNSHI\n",
        "\n",
        "UID: U25855816\n",
        "\n",
        "\n",
        "### Topics\n",
        "\n",
        "- course overview\n",
        "- python review\n",
        "\n",
        "### Course Overview\n",
        "\n",
        "a) Why are you taking this course?"
      ]
    },
    {
      "cell_type": "markdown",
      "metadata": {
        "id": "yt71JSfBfqzx"
      },
      "source": [
        "Throughout my undergraduate degree, I developed an interest in the data science domain and related fields. I wanted to explore the domain in depth and develop strong foundations of the  different data science tools and its applications."
      ]
    },
    {
      "cell_type": "markdown",
      "metadata": {
        "id": "1TA_Qzj8fqzy"
      },
      "source": [
        "b) What are your academic and professional goals for this semester?"
      ]
    },
    {
      "cell_type": "markdown",
      "metadata": {
        "id": "q7Zxb5VSfqzz"
      },
      "source": [
        "My academic goals this semester include adjusting to education at BU and getting a good grade in all my classes. My professional goals are to develop a strong grip on the fundamentals of algorithms, data science and related domains and work towards securing a good summer internship for next year."
      ]
    },
    {
      "cell_type": "markdown",
      "metadata": {
        "id": "_wYf1Atgfqz0"
      },
      "source": [
        "c) Do you have previous Data Science experience? If so, please expand."
      ]
    },
    {
      "cell_type": "markdown",
      "metadata": {
        "id": "nw7Lu4Cgfqz0"
      },
      "source": [
        "Yes, I have 2 research publications in the machine learning and deep learning aspects of Data Science. The details of the publications are as follows -\n",
        "\n",
        "1.   Research paper titled 'Artificial Intelligence and Exploratory-Data-Analysis-Based Initial Public Offering Gain Prediction for Public Investors' (Published in Sustaibility, MDPI) which deals with studying IPO market trends and predicting IPO gains in the Indian financial market.\n",
        "2.   Research paper titled 'CNN-FEBAC: A framework for attention measurement of autistic individuals' (Published in Biomedical Signal Processing and Control, Elsevier) which focuses on analysing the changes in EEG signals of autistic patients when they respond to a stimulus and identify target objects flashed before them using deep learning techniques.\n",
        "\n",
        "\n"
      ]
    },
    {
      "cell_type": "markdown",
      "metadata": {
        "id": "JoXk8vAGfqz1"
      },
      "source": [
        "d) Data Science is a combination of programming, math (linear algebra and calculus), and statistics. Which of these three do you struggle with the most (you may pick more than one)?"
      ]
    },
    {
      "cell_type": "markdown",
      "metadata": {
        "id": "-FWFnvpofqz1"
      },
      "source": [
        "Programming"
      ]
    },
    {
      "cell_type": "markdown",
      "metadata": {
        "id": "fBq1yBOBfqz2"
      },
      "source": [
        "The rest of this worksheet is optional. If you have prior Python experience, you are welcome to skip it HOWEVER I strongly encourage you to try out the questions marked as `challenging`.\n",
        "\n",
        "### Python review (Optional)\n",
        "\n",
        "#### Lambda functions\n",
        "\n",
        "Python supports the creation of anonymous functions (i.e. functions that are not bound to a name) at runtime, using a construct called `lambda`. Instead of writing a named function as such:"
      ]
    },
    {
      "cell_type": "code",
      "execution_count": null,
      "metadata": {
        "id": "5kPSjn6lfqz3",
        "outputId": "e8a1c2ff-0180-49e2-cfb0-09fa28dfa46f"
      },
      "outputs": [
        {
          "data": {
            "text/plain": [
              "64"
            ]
          },
          "execution_count": 1,
          "metadata": {},
          "output_type": "execute_result"
        }
      ],
      "source": [
        "def f(x):\n",
        "    return x**2\n",
        "f(8)"
      ]
    },
    {
      "cell_type": "markdown",
      "metadata": {
        "id": "RaLZl0IZfqz7"
      },
      "source": [
        "One can write an anonymous function as such:"
      ]
    },
    {
      "cell_type": "code",
      "execution_count": null,
      "metadata": {
        "id": "7CjtejiRfqz8",
        "outputId": "1c59259f-7606-48e6-c090-d120896f2b60"
      },
      "outputs": [
        {
          "data": {
            "text/plain": [
              "64"
            ]
          },
          "execution_count": 2,
          "metadata": {},
          "output_type": "execute_result"
        }
      ],
      "source": [
        "(lambda x: x**2)(8)"
      ]
    },
    {
      "cell_type": "markdown",
      "metadata": {
        "id": "Sl2d-hjwfqz9"
      },
      "source": [
        "A `lambda` function can take multiple arguments:"
      ]
    },
    {
      "cell_type": "code",
      "execution_count": null,
      "metadata": {
        "id": "yZNBTZycfqz9",
        "outputId": "8cd95c35-1312-41f2-c1f1-a5634b74a1d4"
      },
      "outputs": [
        {
          "data": {
            "text/plain": [
              "5"
            ]
          },
          "execution_count": 3,
          "metadata": {},
          "output_type": "execute_result"
        }
      ],
      "source": [
        "(lambda x, y : x + y)(2, 3)"
      ]
    },
    {
      "cell_type": "markdown",
      "metadata": {
        "id": "VQ_rXwkXfqz-"
      },
      "source": [
        "The arguments can be `lambda` functions themselves:"
      ]
    },
    {
      "cell_type": "code",
      "execution_count": null,
      "metadata": {
        "id": "FXCf1F68fqz_",
        "outputId": "faeb3b28-f5aa-45c4-a3c3-0c73f5fa5c23"
      },
      "outputs": [
        {
          "data": {
            "text/plain": [
              "5"
            ]
          },
          "execution_count": 4,
          "metadata": {},
          "output_type": "execute_result"
        }
      ],
      "source": [
        "(lambda x : x(3))(lambda y: 2 + y)"
      ]
    },
    {
      "cell_type": "markdown",
      "metadata": {
        "id": "7tgHxUovfq0A"
      },
      "source": [
        "a) write a `lambda` function that takes three arguments `x, y, z` and returns `True` only if `x < y < z`."
      ]
    },
    {
      "cell_type": "code",
      "execution_count": 1,
      "metadata": {
        "colab": {
          "base_uri": "https://localhost:8080/",
          "height": 0
        },
        "id": "gFawukigfq0B",
        "outputId": "54bdc111-fcf9-48ce-b6b6-1ddea88dbb7b"
      },
      "outputs": [
        {
          "output_type": "execute_result",
          "data": {
            "text/plain": [
              "True"
            ]
          },
          "metadata": {},
          "execution_count": 1
        }
      ],
      "source": [
        "(lambda x,y,z: True if x<y<z else False) (1,2,3)"
      ]
    },
    {
      "cell_type": "markdown",
      "metadata": {
        "id": "rumvzMOKfq0B"
      },
      "source": [
        "b) write a `lambda` function that takes a parameter `n` and returns a lambda function that will multiply any input it receives by `n`."
      ]
    },
    {
      "cell_type": "code",
      "execution_count": 11,
      "metadata": {
        "colab": {
          "base_uri": "https://localhost:8080/",
          "height": 0
        },
        "id": "mHTvAPkpfq0C",
        "outputId": "8bbc29bb-652c-4283-c60e-dbafcb766fd8"
      },
      "outputs": [
        {
          "output_type": "execute_result",
          "data": {
            "text/plain": [
              "12"
            ]
          },
          "metadata": {},
          "execution_count": 11
        }
      ],
      "source": [
        "(lambda n: (lambda x: x*n) (3)) (4)"
      ]
    },
    {
      "cell_type": "markdown",
      "metadata": {
        "id": "csWhqRW-fq0D"
      },
      "source": [
        "#### Map\n",
        "\n",
        "`map(func, s)`\n",
        "\n",
        "`func` is a function and `s` is a sequence (e.g., a list).\n",
        "\n",
        "`map()` returns an object that will apply function `func` to each of the elements of `s`.\n",
        "\n",
        "For example if you want to multiply every element in a list by 2 you can write the following:"
      ]
    },
    {
      "cell_type": "code",
      "execution_count": null,
      "metadata": {
        "id": "ITtaARjafq0D",
        "outputId": "9ecdbf8b-f82f-4a7f-e6a2-48ee5be96366"
      },
      "outputs": [
        {
          "name": "stdout",
          "output_type": "stream",
          "text": [
            "[2, 4, 6, 8, 10]\n"
          ]
        }
      ],
      "source": [
        "mylist = [1, 2, 3, 4, 5]\n",
        "mylist_mul_by_2 = map(lambda x : 2 * x, mylist)\n",
        "print(list(mylist_mul_by_2))"
      ]
    },
    {
      "cell_type": "markdown",
      "metadata": {
        "id": "Br0s-kEMfq0E"
      },
      "source": [
        "`map` can also be applied to more than one list as long as they are the same size:"
      ]
    },
    {
      "cell_type": "code",
      "execution_count": null,
      "metadata": {
        "id": "MdUb5k2qfq0F",
        "outputId": "fc7efcdf-e7c7-41be-a2ef-d87fa0cd0e04"
      },
      "outputs": [
        {
          "data": {
            "text/plain": [
              "[6, 6, 6, 6, 6]"
            ]
          },
          "execution_count": 9,
          "metadata": {},
          "output_type": "execute_result"
        }
      ],
      "source": [
        "a = [1, 2, 3, 4, 5]\n",
        "b = [5, 4, 3, 2, 1]\n",
        "\n",
        "a_plus_b = map(lambda x, y: x + y, a, b)\n",
        "list(a_plus_b)"
      ]
    },
    {
      "cell_type": "markdown",
      "metadata": {
        "id": "EqW7azWdfq0G"
      },
      "source": [
        "c) write a map that checks if elements are greater than zero"
      ]
    },
    {
      "cell_type": "code",
      "execution_count": 17,
      "metadata": {
        "colab": {
          "base_uri": "https://localhost:8080/",
          "height": 0
        },
        "id": "E7Drlrf5fq0G",
        "outputId": "62bd57ec-e3b6-4ea1-dbd3-ace79c666a7f"
      },
      "outputs": [
        {
          "output_type": "execute_result",
          "data": {
            "text/plain": [
              "[False, False, False, True, True]"
            ]
          },
          "metadata": {},
          "execution_count": 17
        }
      ],
      "source": [
        "c = [-2, -1, 0, 1, 2]\n",
        "gt_zero = map(lambda x: True if x>0 else False, c)\n",
        "list(gt_zero)\n",
        "\n",
        "#let the map return True if element is greater than 0 else return False"
      ]
    },
    {
      "cell_type": "markdown",
      "metadata": {
        "id": "lrcrzeEffq0H"
      },
      "source": [
        "d) write a map that checks if elements are multiples of 3"
      ]
    },
    {
      "cell_type": "code",
      "execution_count": 18,
      "metadata": {
        "colab": {
          "base_uri": "https://localhost:8080/",
          "height": 0
        },
        "id": "8cAvGRHdfq0H",
        "outputId": "5cbd41ad-635d-4927-f3df-254d8f23368f"
      },
      "outputs": [
        {
          "output_type": "execute_result",
          "data": {
            "text/plain": [
              "[False, True, True, False, False]"
            ]
          },
          "metadata": {},
          "execution_count": 18
        }
      ],
      "source": [
        "d = [1, 3, 6, 11, 2]\n",
        "mul_of3 = map(lambda x: True if x%3==0 else False, d)\n",
        "list(mul_of3)\n",
        "#let the map return True if element multiple of 3 else return False"
      ]
    },
    {
      "cell_type": "markdown",
      "metadata": {
        "id": "HhhTCw4Vfq0I"
      },
      "source": [
        "#### Filter\n",
        "\n",
        "`filter(function, list)` returns a new list containing all the elements of `list` for which `function()` evaluates to `True.`\n",
        "\n",
        "e) write a filter that will only return even numbers in the list"
      ]
    },
    {
      "cell_type": "code",
      "execution_count": 19,
      "metadata": {
        "colab": {
          "base_uri": "https://localhost:8080/",
          "height": 0
        },
        "id": "MqQdY5sgfq0I",
        "outputId": "4219662e-eefb-4f0e-bc40-3963bd17d190"
      },
      "outputs": [
        {
          "output_type": "execute_result",
          "data": {
            "text/plain": [
              "[2, 4, 6, 8, 10]"
            ]
          },
          "metadata": {},
          "execution_count": 19
        }
      ],
      "source": [
        "e = [1, 2, 3, 4, 5, 6, 7, 8, 9, 10]\n",
        "evens = filter(lambda x: x%2==0,e)\n",
        "list(evens)"
      ]
    },
    {
      "cell_type": "markdown",
      "metadata": {
        "id": "pUyoIbCVfq0J"
      },
      "source": [
        "#### Reduce\n",
        "\n",
        "`reduce(function, sequence[, initial])` returns the result of sequencially applying the function to the sequence (starting at an initial state). You can think of reduce as consuming the sequence via the function.\n",
        "\n",
        "For example, let's say we want to add all elements in a list. We could write the following:"
      ]
    },
    {
      "cell_type": "code",
      "execution_count": 24,
      "metadata": {
        "colab": {
          "base_uri": "https://localhost:8080/",
          "height": 0
        },
        "id": "QOCdpujnfq0K",
        "outputId": "5c94e98a-042e-4b8a-c914-e675ad755ef7"
      },
      "outputs": [
        {
          "output_type": "stream",
          "name": "stdout",
          "text": [
            "15\n"
          ]
        }
      ],
      "source": [
        "from functools import reduce\n",
        "\n",
        "nums = [1, 2, 3, 4, 5]\n",
        "sum_nums = reduce(lambda acc, x : acc + x, nums, 0)\n",
        "print(sum_nums)"
      ]
    },
    {
      "cell_type": "markdown",
      "metadata": {
        "id": "4uF3vTLgfq0K"
      },
      "source": [
        "Let's walk through the steps of `reduce` above:\n",
        "\n",
        "1) the value of `acc` is set to 0 (our initial value)\n",
        "2) Apply the lambda function on `acc` and the first element of the list: `acc` = `acc` + 1 = 1\n",
        "3) `acc` = `acc` + 2 = 3\n",
        "4) `acc` = `acc` + 3 = 6\n",
        "5) `acc` = `acc` + 4 = 10\n",
        "6) `acc` = `acc` + 5 = 15\n",
        "7) return `acc`\n",
        "\n",
        "`acc` is short for `accumulator`.\n",
        "\n",
        "f) `*challenging` Using `reduce` write a function that returns the factorial of a number. (recall: N! (N factorial) = N * (N - 1) * (N - 2) * ... * 2 * 1)"
      ]
    },
    {
      "cell_type": "code",
      "execution_count": 29,
      "metadata": {
        "colab": {
          "base_uri": "https://localhost:8080/",
          "height": 0
        },
        "id": "2zcBroQnfq0L",
        "outputId": "3785e0cd-b894-4188-d01f-6ff56c240df5"
      },
      "outputs": [
        {
          "output_type": "execute_result",
          "data": {
            "text/plain": [
              "120"
            ]
          },
          "metadata": {},
          "execution_count": 29
        }
      ],
      "source": [
        "factorial = lambda x: reduce(lambda res,x: res*x, range(1,x+1),1)\n",
        "factorial(5)"
      ]
    },
    {
      "cell_type": "markdown",
      "metadata": {
        "id": "P_A5AEJmfq0M"
      },
      "source": [
        "g) `*challenging` Using `reduce` and `filter`, write a function that returns all the primes below a certain number"
      ]
    },
    {
      "cell_type": "code",
      "execution_count": 41,
      "metadata": {
        "colab": {
          "base_uri": "https://localhost:8080/",
          "height": 0
        },
        "id": "cGs7eBl3fq0M",
        "outputId": "fdf008c3-8bea-4ac5-d514-4c88f5d253ba"
      },
      "outputs": [
        {
          "output_type": "stream",
          "name": "stdout",
          "text": [
            "[2, 3, 5, 7, 11, 13, 17, 19, 23, 29, 31, 37, 41, 43, 47, 53, 59, 61, 67, 71, 73, 79, 83, 89, 97]\n"
          ]
        }
      ],
      "source": [
        "sieve = lambda n: [x for x in range(2, n) if all(x % d != 0 for d in range(2, int(x**0.5) + 1))]\n",
        "print(sieve(100))"
      ]
    },
    {
      "cell_type": "markdown",
      "metadata": {
        "id": "jTfjlCTzfq0N"
      },
      "source": [
        "### What is going on?\n",
        "\n",
        "This whole section is `*challenging`\n",
        "\n",
        "For each of the following code snippets, explain why the output is what it is:"
      ]
    },
    {
      "cell_type": "code",
      "execution_count": 30,
      "metadata": {
        "colab": {
          "base_uri": "https://localhost:8080/",
          "height": 0
        },
        "id": "FkcjVJbSfq0N",
        "outputId": "25099300-ec24-45cb-de99-8bae9628b928"
      },
      "outputs": [
        {
          "output_type": "stream",
          "name": "stdout",
          "text": [
            "OVERDRAWN\n"
          ]
        }
      ],
      "source": [
        "class Bank:\n",
        "  def __init__(self, balance):\n",
        "    self.balance = balance\n",
        "  def is_overdrawn(self):\n",
        "    return self.balance < 0\n",
        "myBank = Bank(100)\n",
        "if myBank.is_overdrawn : #line 7\n",
        "  print(\"OVERDRAWN\")\n",
        "else:\n",
        "  print(\"ALL GOOD\")"
      ]
    },
    {
      "cell_type": "markdown",
      "metadata": {
        "id": "AemHBPX2fq0O"
      },
      "source": [
        "In line 7, we want to call the function is_overdrawn to check if the balance is negative or not, but the function call here is done without a parentheses (). So effectively the current meaning of line 7 without a () is to check the existence of the method is_overdrawn, which will always be True, so the output is OVERDRAWN as the if condition will always evaluate to True."
      ]
    },
    {
      "cell_type": "code",
      "execution_count": 31,
      "metadata": {
        "colab": {
          "base_uri": "https://localhost:8080/",
          "height": 0
        },
        "id": "31yAaN76fq0R",
        "outputId": "b030132b-bf59-469d-a091-770d6c2cc12d"
      },
      "outputs": [
        {
          "output_type": "stream",
          "name": "stdout",
          "text": [
            "0\n",
            "1\n",
            "2\n",
            "3\n"
          ]
        }
      ],
      "source": [
        "for i in range(4):\n",
        "    print(i)\n",
        "    i = 10"
      ]
    },
    {
      "cell_type": "markdown",
      "metadata": {
        "id": "P_SB7qqjfq0T"
      },
      "source": [
        "The for loop increases the value of i by 1 depending on the condition, here the condition is range(4). The reassigment of i=10 has no effect as the value of i is assigned according to the condition of the loop and increased by 1 in each iteration."
      ]
    },
    {
      "cell_type": "code",
      "execution_count": null,
      "metadata": {
        "id": "zEcwsYNCfq0U",
        "outputId": "e9cb79eb-3979-4fc1-e2ba-7dc03329e331"
      },
      "outputs": [
        {
          "name": "stdout",
          "output_type": "stream",
          "text": [
            "[['', '', ''], ['', '', ''], ['', '', '']]\n",
            "[['X', '', ''], ['X', '', ''], ['X', '', '']]\n"
          ]
        }
      ],
      "source": [
        "row = [\"\"] * 3 # row i['', '', '']\n",
        "board = [row] * 3\n",
        "print(board) # [['', '', ''], ['', '', ''], ['', '', '']]\n",
        "board[0][0] = \"X\"\n",
        "print(board)"
      ]
    },
    {
      "cell_type": "markdown",
      "metadata": {
        "id": "QYJiDKi-fq0X"
      },
      "source": [
        "We first create a row with 3 empty spaces and then create a board of three rows. Here the variable board is a list having three references to the 'row' list variable. So while assigning X to the [0][0] position, all three rows first value changes as the board references to the three lists of row variable."
      ]
    },
    {
      "cell_type": "code",
      "execution_count": 32,
      "metadata": {
        "colab": {
          "base_uri": "https://localhost:8080/",
          "height": 0
        },
        "id": "Ai5hm1JBfq0X",
        "outputId": "c41adcf4-c1b6-496f-f59c-a5f01d859223"
      },
      "outputs": [
        {
          "output_type": "stream",
          "name": "stdout",
          "text": [
            "[0, 1, 2]\n",
            "[2, 2, 2]\n"
          ]
        }
      ],
      "source": [
        "funcs = []\n",
        "results = []\n",
        "for x in range(3):\n",
        "    def some_func():\n",
        "        return x\n",
        "    funcs.append(some_func)\n",
        "    results.append(some_func())  # note the function call here\n",
        "\n",
        "funcs_results = [func() for func in funcs]\n",
        "print(results) # [0,1,2]\n",
        "print(funcs_results)"
      ]
    },
    {
      "cell_type": "markdown",
      "metadata": {
        "id": "NUaosyAefq0Z"
      },
      "source": [
        "When you call the function some_func() inside the loop, it runs for each iteration returning values of x as 0,1,2 within the loop's scope and appends these values to the results list to make it [0,1,2]. However when you call it using the list funcs, the loop execution is over and only the final value of x=2, is sent as argument and the list func_results has [2,2,2]"
      ]
    },
    {
      "cell_type": "code",
      "execution_count": 33,
      "metadata": {
        "colab": {
          "base_uri": "https://localhost:8080/",
          "height": 0
        },
        "id": "v_QeDU3Ofq0a",
        "outputId": "bbf2f121-8456-4e22-e5a7-6e187b8b953d"
      },
      "outputs": [
        {
          "output_type": "stream",
          "name": "stdout",
          "text": [
            "0\n"
          ]
        }
      ],
      "source": [
        "f = open(\"./data.txt\", \"w+\")\n",
        "f.write(\"1,2,3,4,5\")\n",
        "f.close()\n",
        "\n",
        "nums = []\n",
        "with open(\"./data.txt\", \"w+\") as f:\n",
        "  lines = f.readlines()\n",
        "  for line in lines:\n",
        "    nums += [int(x) for x in line.split(\",\")]\n",
        "\n",
        "print(sum(nums))"
      ]
    },
    {
      "cell_type": "markdown",
      "metadata": {
        "id": "M8-21iHzfq0b"
      },
      "source": [
        "The output is 0 as we are opening the file the second time with w+. It will truncate the file and erase the content. For reading content of file, we should use 'r'."
      ]
    }
  ],
  "metadata": {
    "interpreter": {
      "hash": "e7370f93d1d0cde622a1f8e1c04877d8463912d04d973331ad4851f04de6915a"
    },
    "kernelspec": {
      "display_name": "Python 3.9.9 64-bit",
      "language": "python",
      "name": "python3"
    },
    "language_info": {
      "codemirror_mode": {
        "name": "ipython",
        "version": 3
      },
      "file_extension": ".py",
      "mimetype": "text/x-python",
      "name": "python",
      "nbconvert_exporter": "python",
      "pygments_lexer": "ipython3",
      "version": "3.11.1 (main, Dec  7 2022, 00:00:00) [GCC 12.2.1 20221121 (Red Hat 12.2.1-4)]"
    },
    "orig_nbformat": 4,
    "colab": {
      "provenance": []
    }
  },
  "nbformat": 4,
  "nbformat_minor": 0
}