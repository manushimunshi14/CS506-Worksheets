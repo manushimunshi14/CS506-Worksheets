{
 "cells": [
  {
   "attachments": {},
   "cell_type": "markdown",
   "metadata": {},
   "source": [
    "# Worksheet 04\n",
    "\n",
    "Name:  MANUSHI MUNSHI\n",
    "\n",
    "UID: U25855816\n",
    "\n",
    "### Topics\n",
    "\n",
    "- Distance & Similarity"
   ]
  },
  {
   "cell_type": "markdown",
   "metadata": {},
   "source": [
    "### Distance & Similarity\n",
    "\n",
    "#### Part 1\n",
    "\n",
    "a) In the minkowski distance, describe what the parameters p and d are."
   ]
  },
  {
   "cell_type": "markdown",
   "metadata": {},
   "source": [
    "- d is the dimensionaliy of the feature space wherein the distance is being calculated. It can also be explained as the number of features/dimensions in the dataset.\n",
    "- p is the order parameter which determines the type of distance to be calculated. Eg: p=2 is Euclidean distance, p=1 is Manhattan distance"
   ]
  },
  {
   "cell_type": "markdown",
   "metadata": {},
   "source": [
    "b) In your own words describe the difference between the Euclidean distance and the Manhattan distance."
   ]
  },
  {
   "cell_type": "markdown",
   "metadata": {},
   "source": [
    "- In Euclidean distance, the value of p is 2. It is calculated as the shortest path length between the two points. \n",
    "- Manhattan distance has p value 1 and it is the sum of the absolute differences of the coordinates of the two points. "
   ]
  },
  {
   "attachments": {},
   "cell_type": "markdown",
   "metadata": {},
   "source": [
    "Consider A = (0, 0) and B = (1, 1). When:\n",
    "\n",
    "- p = 1, d(A, B) = 2\n",
    "- p = 2, d(A, B) = $\\sqrt{2} = 1.41$\n",
    "- p = 3, d(A, B) = $2^{1/3} = 1.26$\n",
    "- p = 4, d(A, B) = $2^{1/4} = 1.19$\n",
    "\n",
    "c) Describe what you think distance would look like when p is very large."
   ]
  },
  {
   "cell_type": "markdown",
   "metadata": {},
   "source": [
    "The distance value will decrease to a very small amount as the value of p increases. When p is very large, the distance will converge towards the smallest absolute difference between the coordinates of the two points. "
   ]
  },
  {
   "cell_type": "markdown",
   "metadata": {},
   "source": [
    "d) Is the minkowski distance still a distance function when p < 1? Expain why / why not."
   ]
  },
  {
   "cell_type": "markdown",
   "metadata": {},
   "source": [
    "No\n",
    "- Consider 3 data points A(0,0), B(1,0) and C(0,1). Here D(B,A)+D(A,C) will be 1 and D(B,C) will be 2^(1/p). Now if p<1 then 1/p will be greater than 1 which implies -> D(B,C)>D(B,A)+D(A,C) which will violate the triangle inequality. "
   ]
  },
  {
   "cell_type": "markdown",
   "metadata": {},
   "source": [
    "e) when would you use cosine similarity over the euclidan distance?"
   ]
  },
  {
   "cell_type": "markdown",
   "metadata": {},
   "source": [
    "When the direction of the vectors matters more than the magnitude. \n",
    "Eg: text data when we want to calculate document similarity. "
   ]
  },
  {
   "cell_type": "markdown",
   "metadata": {},
   "source": [
    "f) what does the jaccard distance account for that the manhattan distance doesn't?"
   ]
  },
  {
   "cell_type": "markdown",
   "metadata": {},
   "source": [
    "It accounts for the intersection and union of the 2 elements betweent the two sets."
   ]
  },
  {
   "attachments": {},
   "cell_type": "markdown",
   "metadata": {},
   "source": [
    "#### Part 2\n",
    "\n",
    "Consider the following two sentences:"
   ]
  },
  {
   "cell_type": "code",
   "execution_count": 2,
   "metadata": {},
   "outputs": [],
   "source": [
    "s1 = \"hello my name is Alice\"  \n",
    "s2 = \"hello my name is Bob\""
   ]
  },
  {
   "cell_type": "markdown",
   "metadata": {},
   "source": [
    "using the union of words from both sentences, we can represent each sentence as a vector. Each element of the vector represents the presence or absence of the word at that index.\n",
    "\n",
    "In this example, the union of words is (\"hello\", \"my\", \"name\", \"is\", \"Alice\", \"Bob\") so we can represent the above sentences as such:"
   ]
  },
  {
   "cell_type": "code",
   "execution_count": 3,
   "metadata": {},
   "outputs": [],
   "source": [
    "v1 = [1,    1, 1,   1, 1,    0]\n",
    "#     hello my name is Alice\n",
    "v2 = [1,    1, 1,   1, 0, 1]\n",
    "#     hello my name is    Bob"
   ]
  },
  {
   "attachments": {},
   "cell_type": "markdown",
   "metadata": {},
   "source": [
    "Programmatically, we can do the following:"
   ]
  },
  {
   "cell_type": "code",
   "execution_count": 4,
   "metadata": {},
   "outputs": [
    {
     "name": "stdout",
     "output_type": "stream",
     "text": [
      "['Alice', 'Bob', 'is', 'my', 'hello', 'name']\n",
      "[1, 0, 1, 1, 1, 1]\n"
     ]
    }
   ],
   "source": [
    "corpus = [s1, s2]\n",
    "all_words = list(set([item for x in corpus for item in x.split()]))\n",
    "print(all_words)\n",
    "v1 = [1 if x in s1 else 0 for x in all_words]\n",
    "print(v1)"
   ]
  },
  {
   "cell_type": "markdown",
   "metadata": {},
   "source": [
    "Let's add a new sentence to our corpus:"
   ]
  },
  {
   "cell_type": "code",
   "execution_count": 5,
   "metadata": {},
   "outputs": [
    {
     "name": "stdout",
     "output_type": "stream",
     "text": [
      "['hello my name is Alice', 'hello my name is Bob', 'hi my name is Claude']\n"
     ]
    }
   ],
   "source": [
    "s3 = \"hi my name is Claude\"\n",
    "corpus.append(s3)\n",
    "print(corpus)"
   ]
  },
  {
   "cell_type": "markdown",
   "metadata": {},
   "source": [
    "a) What is the new union of words used to represent s1, s2, and s3?"
   ]
  },
  {
   "cell_type": "code",
   "execution_count": 6,
   "metadata": {},
   "outputs": [
    {
     "name": "stdout",
     "output_type": "stream",
     "text": [
      "['Alice', 'Bob', 'is', 'my', 'Claude', 'hello', 'hi', 'name']\n"
     ]
    }
   ],
   "source": [
    "corpus = [s1, s2, s3]\n",
    "all_words = list(set([item for x in corpus for item in x.split()]))\n",
    "print(all_words)"
   ]
  },
  {
   "attachments": {},
   "cell_type": "markdown",
   "metadata": {},
   "source": [
    "b) Represent s1, s2, and s3 as vectors as above, using this new set of words."
   ]
  },
  {
   "cell_type": "code",
   "execution_count": 7,
   "metadata": {},
   "outputs": [
    {
     "name": "stdout",
     "output_type": "stream",
     "text": [
      "[1, 0, 1, 1, 0, 1, 0, 1]\n",
      "[0, 1, 1, 1, 0, 1, 0, 1]\n",
      "[0, 0, 1, 1, 1, 0, 1, 1]\n"
     ]
    }
   ],
   "source": [
    "v1 = [1 if x in s1 else 0 for x in all_words]\n",
    "print(v1)\n",
    "v2 = [1 if x in s2 else 0 for x in all_words]\n",
    "print(v2)\n",
    "v3 = [1 if x in s3 else 0 for x in all_words]\n",
    "print(v3)"
   ]
  },
  {
   "cell_type": "markdown",
   "metadata": {},
   "source": [
    "c) Write a function that computes the manhattan distance between two vectors. Which pair of vectors are the most similar under that distance function?"
   ]
  },
  {
   "cell_type": "code",
   "execution_count": 8,
   "metadata": {},
   "outputs": [
    {
     "name": "stdout",
     "output_type": "stream",
     "text": [
      "Distance between v1 and v2: 2.0\n",
      "Distance between v1 and v3: 4.0\n",
      "Distance between v2 and v3: 4.0\n"
     ]
    }
   ],
   "source": [
    "def minkowski(x,y,p):\n",
    "    if p<1:\n",
    "        raise ValueError(\"p must be greater than 1\")\n",
    "    if len(x) != len(y):\n",
    "        raise ValueError(\"x and y must be in same dimensional space \")\n",
    "\n",
    "    res=0\n",
    "    for i in range(len(x)):\n",
    "        res+=abs(x[i]-y[i])**p\n",
    "    return res**(1/p)\n",
    "\n",
    "def manhattan(x,y):\n",
    "    return minkowski(x,y,1)\n",
    "\n",
    "print(\"Distance between v1 and v2:\",manhattan(v1,v2))\n",
    "print(\"Distance between v1 and v3:\",manhattan(v1,v3))\n",
    "print(\"Distance between v2 and v3:\",manhattan(v2,v3))\n",
    "\n"
   ]
  },
  {
   "cell_type": "markdown",
   "metadata": {},
   "source": [
    "v1 and v2 are most similar as the distance between them is the least. "
   ]
  },
  {
   "cell_type": "markdown",
   "metadata": {},
   "source": [
    "d) Create a matrix of all these vectors (row major) and add the following sentences in vector form:\n",
    "\n",
    "- \"hi Alice\"\n",
    "- \"hello Claude\"\n",
    "- \"Bob my name is Claude\"\n",
    "- \"hi Claude my name is Alice\"\n",
    "- \"hello Bob\""
   ]
  },
  {
   "cell_type": "code",
   "execution_count": 9,
   "metadata": {},
   "outputs": [
    {
     "name": "stdout",
     "output_type": "stream",
     "text": [
      "['Alice', 'Bob', 'is', 'my', 'Claude', 'hello', 'hi', 'name']\n",
      "[1, 0, 0, 0, 0, 0, 1, 0]\n",
      "[0, 0, 0, 0, 1, 1, 0, 0]\n",
      "[0, 1, 1, 1, 1, 0, 0, 1]\n",
      "[1, 0, 1, 1, 1, 0, 1, 1]\n",
      "[0, 1, 0, 0, 0, 1, 0, 0]\n"
     ]
    }
   ],
   "source": [
    "corpus = [\"hi Alice\", \"hello Claude\",\"Bob my name is Claude\", \"hi Claude my name is Alice\",\"hello Bob\" ]\n",
    "all_words=list(set([item for x in corpus for item in x.split()]))\n",
    "print(all_words)\n",
    "\n",
    "matrix =[[1 if word in sentence else 0 for word in all_words ] for sentence in corpus]\n",
    "\n",
    "for vec in matrix:\n",
    "    print(vec)\n"
   ]
  },
  {
   "cell_type": "markdown",
   "metadata": {},
   "source": [
    "e) How many rows and columns does this matrix have?"
   ]
  },
  {
   "cell_type": "code",
   "execution_count": 10,
   "metadata": {},
   "outputs": [
    {
     "name": "stdout",
     "output_type": "stream",
     "text": [
      "Rows= 5\n",
      "Columns= 8\n"
     ]
    }
   ],
   "source": [
    "rows=len(matrix)\n",
    "cols=len(matrix[0])\n",
    "print(\"Rows=\",rows)\n",
    "print(\"Columns=\",cols)"
   ]
  },
  {
   "attachments": {},
   "cell_type": "markdown",
   "metadata": {},
   "source": [
    "f) When using the Manhattan distance, which two sentences are the most similar?"
   ]
  },
  {
   "cell_type": "code",
   "execution_count": 11,
   "metadata": {},
   "outputs": [
    {
     "name": "stdout",
     "output_type": "stream",
     "text": [
      "Most similar vectors: (1, 4)\n"
     ]
    }
   ],
   "source": [
    "min=manhattan(matrix[0],matrix[1])\n",
    "vectors=(0,1)\n",
    "for i in range(1,len(matrix)):\n",
    "    for j in range(i,len(matrix)):\n",
    "        if i!=j:\n",
    "            new_min=manhattan(matrix[i],matrix[j])\n",
    "            if min>new_min:\n",
    "                min=new_min\n",
    "                vectors=(i,j)\n",
    "print(\"Most similar vectors:\",vectors)"
   ]
  }
 ],
 "metadata": {
  "kernelspec": {
   "display_name": "Python 3",
   "language": "python",
   "name": "python3"
  },
  "language_info": {
   "codemirror_mode": {
    "name": "ipython",
    "version": 3
   },
   "file_extension": ".py",
   "mimetype": "text/x-python",
   "name": "python",
   "nbconvert_exporter": "python",
   "pygments_lexer": "ipython3",
   "version": "3.8.5"
  },
  "orig_nbformat": 4,
  "vscode": {
   "interpreter": {
    "hash": "76ca05dc3ea24b2e3b98cdb7774adfbb40773424bf5109b477fd793f623715af"
   }
  }
 },
 "nbformat": 4,
 "nbformat_minor": 2
}
